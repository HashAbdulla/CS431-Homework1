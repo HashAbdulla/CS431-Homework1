{
  "nbformat": 4,
  "nbformat_minor": 0,
  "metadata": {
    "colab": {
      "provenance": []
    },
    "kernelspec": {
      "name": "python3",
      "display_name": "Python 3"
    },
    "language_info": {
      "name": "python"
    }
  },
  "cells": [
    {
      "cell_type": "code",
      "execution_count": 7,
      "metadata": {
        "id": "KzDRoKrmIlTe"
      },
      "outputs": [],
      "source": [
        "from dataclasses import dataclass\n",
        "from typing import List, Dict, Tuple"
      ]
    },
    {
      "cell_type": "code",
      "source": [
        "@dataclass(order=True)\n",
        "class Process:\n",
        "  pid: str\n",
        "  arrival: int\n",
        "  cpu_burst: int"
      ],
      "metadata": {
        "id": "YFtfQMNCIxsg"
      },
      "execution_count": 8,
      "outputs": []
    },
    {
      "cell_type": "code",
      "source": [
        "def sjf(processes):\n",
        "  # Copy and sort process by (arrival, pid)\n",
        "  not_arrived_processes = sorted(processes, key=lambda p: (p.arrival, p.pid))\n",
        "\n",
        "  # processes currently eligible to run (arrival <= time)\n",
        "  ready_processes = []\n",
        "\n",
        "  # The resulting process schedule\n",
        "  scheduled_processes = []\n",
        "\n",
        "  # completion time of processes\n",
        "  completion = {}\n",
        "\n",
        "  # current time\n",
        "  t = 0\n",
        "\n",
        "  # Loop until there are no processes left to run\n",
        "  while not_arrived_processes or ready_processes:\n",
        "    # Admit all processes whose arrival time has passes (arrival <= t)\n",
        "    while not_arrived_processes and not_arrived_processes[0].arrival <= t:\n",
        "      # Move the process into the ready list\n",
        "      ready_processes.append(not_arrived_processes.pop(0))\n",
        "\n",
        "    # If CPU would be idle (no ready processes)\n",
        "    if not ready_processes:\n",
        "      t = not_arrived_processes[0].arrival # Jump time to the next process's time\n",
        "      continue # re-check arrivals\n",
        "\n",
        "    # Choose the next process\n",
        "    ready_processes.sort(key=lambda p: (p.cpu_burst, p.arrival, p.pid))\n",
        "    # Take the process with the shorted cpu burst\n",
        "    the_ready_process = ready_processes.pop(0)\n",
        "\n",
        "    # Simulate\n",
        "    start = t\n",
        "    end = start + the_ready_process.cpu_burst\n",
        "    scheduled_processes.append((the_ready_process.pid, start, end))\n",
        "    completion[the_ready_process.pid] = end\n",
        "\n",
        "    t = end # Advance the time to the end of the process\n",
        "\n",
        "  return scheduled_processes, completion"
      ],
      "metadata": {
        "id": "DR_9P15NIzHY"
      },
      "execution_count": 9,
      "outputs": []
    },
    {
      "cell_type": "code",
      "source": [
        "def tat(processes, completion):\n",
        "  return {p.pid: completion[p.pid] - p.arrival for p in processes} # Map each PID to its TAT.\n",
        "\n",
        "def att(tats):\n",
        "    # Average TAT is the mean over all processes (0.0 if there are none).\n",
        "    return (sum(tats.values()) / len(tats)) if tats else 0.0"
      ],
      "metadata": {
        "id": "M5s-w9k3I0vA"
      },
      "execution_count": 10,
      "outputs": []
    },
    {
      "cell_type": "code",
      "source": [
        "example = [\n",
        "    Process('p1', arrival=0, cpu_burst=3),\n",
        "    Process('p2', arrival=2, cpu_burst=6),\n",
        "    Process('p3', arrival=4, cpu_burst=4),\n",
        "    Process('p4', arrival=6, cpu_burst=5),\n",
        "    Process('p5', arrival=8, cpu_burst=2),\n",
        "]\n",
        "scheduled_processes, completion = sjf(example)\n",
        "tats = tat(example, completion)\n",
        "att = att(tats)"
      ],
      "metadata": {
        "id": "cSIPgvT3I2JQ"
      },
      "execution_count": 11,
      "outputs": []
    },
    {
      "cell_type": "code",
      "source": [
        "print('TAT: ', tats)\n",
        "print('ATT: ', att)"
      ],
      "metadata": {
        "colab": {
          "base_uri": "https://localhost:8080/"
        },
        "id": "O-D8SBpJI3uR",
        "outputId": "bd163c60-87ea-4e49-db7d-818c25d4acad"
      },
      "execution_count": 12,
      "outputs": [
        {
          "output_type": "stream",
          "name": "stdout",
          "text": [
            "TAT:  {'p1': 3, 'p2': 7, 'p3': 11, 'p4': 14, 'p5': 3}\n",
            "ATT:  7.6\n"
          ]
        }
      ]
    }
  ]
}