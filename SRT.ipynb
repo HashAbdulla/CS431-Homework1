{
  "nbformat": 4,
  "nbformat_minor": 0,
  "metadata": {
    "colab": {
      "provenance": []
    },
    "kernelspec": {
      "name": "python3",
      "display_name": "Python 3"
    },
    "language_info": {
      "name": "python"
    }
  },
  "cells": [
    {
      "cell_type": "code",
      "execution_count": 14,
      "metadata": {
        "id": "XqRGiOOXPL2E"
      },
      "outputs": [],
      "source": [
        "from dataclasses import dataclass\n",
        "from typing import List, Dict, Tuple\n",
        "import heapq"
      ]
    },
    {
      "cell_type": "code",
      "source": [
        "@dataclass(order=True)\n",
        "class Process:\n",
        "    pid: str\n",
        "    arrival: int\n",
        "    cpu_burst: int"
      ],
      "metadata": {
        "id": "I13l2Us-Wbbf"
      },
      "execution_count": 15,
      "outputs": []
    },
    {
      "cell_type": "code",
      "source": [
        "@dataclass\n",
        "class PeriodicProcess:\n",
        "    pid: str\n",
        "    arrival: int\n",
        "    cpu_burst: int\n",
        "    period: int\n",
        "    deadline: int = None\n",
        "\n",
        "    def __post_init__(self):\n",
        "        if self.deadline is None:\n",
        "            self.deadline = self.period"
      ],
      "metadata": {
        "id": "P-jLxVZiafZS"
      },
      "execution_count": 16,
      "outputs": []
    },
    {
      "cell_type": "code",
      "source": [
        "def srt(processes):\n",
        "    # Copy and sort process by (arrival, pid)\n",
        "    not_arrived_processes = sorted(processes, key=lambda p: (p.arrival, p.pid))\n",
        "\n",
        "    # processes currently eligible to run with remaining time\n",
        "    ready_processes = []\n",
        "\n",
        "    # The resulting process schedule\n",
        "    scheduled_processes = []\n",
        "\n",
        "    # completion time of processes\n",
        "    completion = {}\n",
        "\n",
        "    # Track remaining time for each process\n",
        "    remaining_time = {p.pid: p.cpu_burst for p in processes}\n",
        "\n",
        "    # current time\n",
        "    t = 0\n",
        "\n",
        "    # Currently running process\n",
        "    current_process = None\n",
        "    current_start = 0\n",
        "\n",
        "    # Loop until there are no processes left to run\n",
        "    while not_arrived_processes or ready_processes or current_process:\n",
        "        # Find next event time (arrival or completion)\n",
        "        next_arrival = not_arrived_processes[0].arrival if not_arrived_processes else float('inf')\n",
        "        next_completion = t + remaining_time[current_process.pid] if current_process else float('inf')\n",
        "        next_event = min(next_arrival, next_completion)\n",
        "\n",
        "        # If nothing is happening, jump to next arrival\n",
        "        if next_event == float('inf'):\n",
        "            break\n",
        "\n",
        "        # Save current process if it was running\n",
        "        if current_process and t < next_event:\n",
        "            scheduled_processes.append((current_process.pid, current_start, next_event))\n",
        "            remaining_time[current_process.pid] -= (next_event - t)\n",
        "\n",
        "            # Check if process completed\n",
        "            if remaining_time[current_process.pid] == 0:\n",
        "                completion[current_process.pid] = next_event\n",
        "                current_process = None\n",
        "            else:\n",
        "                # Put back in ready queue for preemption check\n",
        "                ready_processes.append(current_process)\n",
        "                current_process = None\n",
        "\n",
        "        # Advance time\n",
        "        t = next_event\n",
        "\n",
        "        # Admit all processes whose arrival time has passed (arrival <= t)\n",
        "        while not_arrived_processes and not_arrived_processes[0].arrival <= t:\n",
        "            # Move the process into the ready list\n",
        "            ready_processes.append(not_arrived_processes.pop(0))\n",
        "\n",
        "        # Choose the next process if not currently running\n",
        "        if not current_process and ready_processes:\n",
        "            # Sort by remaining time, then arrival, then pid\n",
        "            ready_processes.sort(key=lambda p: (remaining_time[p.pid], p.arrival, p.pid))\n",
        "            # Take the process with the shortest remaining time\n",
        "            current_process = ready_processes.pop(0)\n",
        "            current_start = t\n",
        "\n",
        "    return scheduled_processes, completion"
      ],
      "metadata": {
        "id": "gEfzx6tcamOB"
      },
      "execution_count": 17,
      "outputs": []
    },
    {
      "cell_type": "code",
      "source": [
        "def tat(processes, completion):\n",
        "    \"\"\"Calculate Turn Around Time for each process\"\"\"\n",
        "    return {p.pid: completion[p.pid] - p.arrival for p in processes}\n",
        "\n",
        "\n",
        "def att(tats):\n",
        "    \"\"\"Calculate Average Turn Around Time\"\"\"\n",
        "    return (sum(tats.values()) / len(tats)) if tats else 0.0\n",
        "\n",
        "\n",
        "\n",
        "\n",
        "def print_schedule(schedule, title=\"Schedule\"):\n",
        "    \"\"\"Pretty print the schedule\"\"\"\n",
        "    print(f\"\\n{title}:\")\n",
        "    print(\"-\" * 40)\n",
        "    for pid, start, end in schedule:\n",
        "        print(f\"  {pid}: [{start:3} - {end:3}]\")\n",
        "\n",
        "\n",
        "\n",
        "def print_metrics(processes, completion, title=\"Metrics\"):\n",
        "    \"\"\"Print TAT and ATT metrics\"\"\"\n",
        "    tats = tat(processes, completion)\n",
        "    average_tat = att(tats)\n",
        "    print(f\"\\n{title}:\")\n",
        "    print(f\"  TAT: {tats}\")\n",
        "    print(f\"  ATT: {average_tat:.2f}\")"
      ],
      "metadata": {
        "id": "HRQglYEjaqjR"
      },
      "execution_count": 18,
      "outputs": []
    },
    {
      "cell_type": "code",
      "source": [
        "example = [\n",
        "    Process('p1', arrival=0, cpu_burst=3),\n",
        "    Process('p2', arrival=2, cpu_burst=6),\n",
        "    Process('p3', arrival=4, cpu_burst=4),\n",
        "    Process('p4', arrival=6, cpu_burst=5),\n",
        "    Process('p5', arrival=8, cpu_burst=2),\n",
        "]\n",
        "scheduled_processes, completion = srt(example)\n",
        "tats = tat(example, completion)\n",
        "att = att(tats)"
      ],
      "metadata": {
        "id": "V08EQI2Cavh6"
      },
      "execution_count": 19,
      "outputs": []
    },
    {
      "cell_type": "code",
      "source": [
        "print('TAT: ', tats)\n",
        "print('ATT: ', att)"
      ],
      "metadata": {
        "colab": {
          "base_uri": "https://localhost:8080/"
        },
        "id": "UR3OiJZcbptO",
        "outputId": "0de66ded-37f6-437b-e312-84839ca9851a"
      },
      "execution_count": 20,
      "outputs": [
        {
          "output_type": "stream",
          "name": "stdout",
          "text": [
            "TAT:  {'p1': 3, 'p2': 13, 'p3': 4, 'p4': 14, 'p5': 2}\n",
            "ATT:  7.2\n"
          ]
        }
      ]
    }
  ]
}